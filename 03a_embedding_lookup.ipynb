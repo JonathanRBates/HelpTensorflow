{
 "cells": [
  {
   "cell_type": "code",
   "execution_count": 24,
   "metadata": {
    "collapsed": false
   },
   "outputs": [],
   "source": [
    "import numpy as np\n",
    "import tensorflow as tf"
   ]
  },
  {
   "cell_type": "code",
   "execution_count": 25,
   "metadata": {
    "collapsed": true
   },
   "outputs": [],
   "source": [
    "batch_size = 4\n",
    "vocabulary_size = 10\n",
    "embedding_size = 3"
   ]
  },
  {
   "cell_type": "code",
   "execution_count": 26,
   "metadata": {
    "collapsed": true
   },
   "outputs": [],
   "source": [
    "train_dataset = tf.placeholder(tf.int32, shape=[batch_size])\n",
    "embeddings = tf.Variable(tf.random_uniform([vocabulary_size, embedding_size], -1.0, 1.0), name='W')\n",
    "embed = tf.nn.embedding_lookup(embeddings, train_dataset)"
   ]
  },
  {
   "cell_type": "code",
   "execution_count": 27,
   "metadata": {
    "collapsed": false
   },
   "outputs": [],
   "source": [
    "sess = tf.Session()\n",
    "sess.run(tf.global_variables_initializer())"
   ]
  },
  {
   "cell_type": "code",
   "execution_count": 32,
   "metadata": {
    "collapsed": false
   },
   "outputs": [
    {
     "data": {
      "text/plain": [
       "array([[-0.77455139,  0.7781477 ,  0.09982991],\n",
       "       [-0.23738837,  0.65014315,  0.33966303],\n",
       "       [ 0.7795186 ,  0.65099335, -0.40258765],\n",
       "       [ 0.22063327,  0.33806729, -0.39233494],\n",
       "       [ 0.27529788,  0.64186621,  0.25571322],\n",
       "       [-0.15469694, -0.70605254, -0.19627142],\n",
       "       [ 0.06660748, -0.18626881,  0.3886044 ],\n",
       "       [-0.82496405,  0.31851625,  0.28163433],\n",
       "       [ 0.5667944 , -0.86580753, -0.43156743],\n",
       "       [-0.59517646, -0.8930676 , -0.19159651]], dtype=float32)"
      ]
     },
     "execution_count": 32,
     "metadata": {},
     "output_type": "execute_result"
    }
   ],
   "source": [
    "sess.run(embeddings, {train_dataset: [1,1,1,1]})"
   ]
  },
  {
   "cell_type": "code",
   "execution_count": 36,
   "metadata": {
    "collapsed": false
   },
   "outputs": [
    {
     "data": {
      "text/plain": [
       "array([[-0.23738837,  0.65014315,  0.33966303],\n",
       "       [ 0.7795186 ,  0.65099335, -0.40258765],\n",
       "       [-0.23738837,  0.65014315,  0.33966303],\n",
       "       [-0.77455139,  0.7781477 ,  0.09982991]], dtype=float32)"
      ]
     },
     "execution_count": 36,
     "metadata": {},
     "output_type": "execute_result"
    }
   ],
   "source": [
    "sess.run(embed, {train_dataset: [1,2,1,0]})"
   ]
  },
  {
   "cell_type": "code",
   "execution_count": 40,
   "metadata": {
    "collapsed": false
   },
   "outputs": [
    {
     "data": {
      "text/plain": [
       "array([[ 1.10245621],\n",
       "       [ 0.77098012],\n",
       "       [ 1.09248257],\n",
       "       [ 0.56293446],\n",
       "       [ 0.74375421],\n",
       "       [ 0.7489751 ],\n",
       "       [ 0.43605736],\n",
       "       [ 0.92808193],\n",
       "       [ 1.12121773],\n",
       "       [ 1.09018993]], dtype=float32)"
      ]
     },
     "execution_count": 40,
     "metadata": {},
     "output_type": "execute_result"
    }
   ],
   "source": [
    "norm = tf.sqrt(tf.reduce_sum(tf.square(embeddings), 1, keep_dims=True))\n",
    "sess.run(norm)"
   ]
  },
  {
   "cell_type": "code",
   "execution_count": 41,
   "metadata": {
    "collapsed": false
   },
   "outputs": [
    {
     "data": {
      "text/plain": [
       "array([[ 0.99999994],\n",
       "       [ 0.99999994],\n",
       "       [ 1.        ],\n",
       "       [ 0.99999994],\n",
       "       [ 0.99999994],\n",
       "       [ 1.        ],\n",
       "       [ 0.99999988],\n",
       "       [ 0.99999994],\n",
       "       [ 0.99999994],\n",
       "       [ 0.99999994]], dtype=float32)"
      ]
     },
     "execution_count": 41,
     "metadata": {},
     "output_type": "execute_result"
    }
   ],
   "source": [
    "normalized_embeddings = embeddings / norm\n",
    "norm1 = tf.sqrt(tf.reduce_sum(tf.square(normalized_embeddings), 1, keep_dims=True))\n",
    "sess.run(norm1)"
   ]
  },
  {
   "cell_type": "code",
   "execution_count": 51,
   "metadata": {
    "collapsed": false
   },
   "outputs": [
    {
     "data": {
      "text/plain": [
       "<tf.Tensor 'MatMul_6:0' shape=(10, 10) dtype=float32>"
      ]
     },
     "execution_count": 51,
     "metadata": {},
     "output_type": "execute_result"
    }
   ],
   "source": [
    "similarity = tf.matmul(normalized_embeddings, tf.transpose(normalized_embeddings))\n",
    "similarity"
   ]
  }
 ],
 "metadata": {
  "anaconda-cloud": {},
  "kernelspec": {
   "display_name": "Python [conda env:py35]",
   "language": "python",
   "name": "conda-env-py35-py"
  },
  "language_info": {
   "codemirror_mode": {
    "name": "ipython",
    "version": 3
   },
   "file_extension": ".py",
   "mimetype": "text/x-python",
   "name": "python",
   "nbconvert_exporter": "python",
   "pygments_lexer": "ipython3",
   "version": "3.5.2"
  }
 },
 "nbformat": 4,
 "nbformat_minor": 2
}
